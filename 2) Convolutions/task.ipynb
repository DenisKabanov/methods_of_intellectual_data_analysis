{
 "cells": [
  {
   "cell_type": "markdown",
   "metadata": {},
   "source": [
    "# Задание"
   ]
  },
  {
   "cell_type": "markdown",
   "metadata": {},
   "source": [
    "1) Реализовать стандартную функцию свертки​.\n",
    "2) Реализовать функцию свертки через im2col.\n",
    "3) Реализовать Depthwise-separable свертку.\n",
    "\n",
    "* Специфицировать размер, количество фильтров, входной tensor, stride, padding...\n",
    "* Придумать тесты для проверки работоспособности всех вариантов свёртки.​"
   ]
  },
  {
   "cell_type": "markdown",
   "metadata": {},
   "source": [
    "# Настройки/Импорты"
   ]
  },
  {
   "cell_type": "code",
   "execution_count": 86,
   "metadata": {},
   "outputs": [],
   "source": [
    "import numpy as np # для работы с массивами\n",
    "import torch # для работы с тензорами\n",
    "import torch.nn.functional as F # для функций с тензорами\n",
    "import torchvision.io as tv # для работы с изображениями\n",
    "from tqdm import tqdm # для отслеживания прогресса\n",
    "from matplotlib import pyplot as plt # для построения графиков/вывода изображений"
   ]
  },
  {
   "cell_type": "markdown",
   "metadata": {},
   "source": [
    "# Вспомогательные функции"
   ]
  },
  {
   "cell_type": "code",
   "execution_count": 1,
   "metadata": {},
   "outputs": [],
   "source": [
    "def show_image(image, figsize: tuple, gray: bool=False) -> None:\n",
    "    \"\"\"\n",
    "    Функция для вывода изображений.\\n\n",
    "    Parameters:\n",
    "        * image: изображение, что нужно вывести\n",
    "        * figsize: размер выводимой картинки\n",
    "        * gray: флаг, является ли изображение одноканальным (чёрно-белым)\\n\n",
    "    Returns:\n",
    "        * None\n",
    "    \"\"\"\n",
    "    cmap = \"gray\" if gray else \"viridis\" # выбор цветовой схемы, (стандартная — \"viridis\", но если передан ключ gray — \"gray\")\n",
    "\n",
    "    plt.figure(figsize=figsize) # размер фигуры\n",
    "    plt.imshow(image, cmap) # вывод изображения\n",
    "    plt.show() # показ фигуры"
   ]
  },
  {
   "cell_type": "code",
   "execution_count": 249,
   "metadata": {},
   "outputs": [],
   "source": [
    "def test_conv(func, input) -> None:\n",
    "    \"\"\"\n",
    "    Функция для тестирования работы свёрток. Сравнивает с реализацией свёрточного слоя на PyTorch при различных параметрах.\\n\n",
    "    Parameters:\n",
    "        * func: функция свёртки, что нужно протестировать\n",
    "        * input: входной массив, на котором будет проводиться тестирование (в формате float32)\\n\n",
    "    Returns:\n",
    "        * None: выдаст Exception в случае, если есть несовпадение ответов у проверяемой и контрольной функции свёртки\n",
    "    \"\"\"\n",
    "    for num_filters in tqdm([1, 2]): # рассматриваем возможное число фильтров\n",
    "        for kernel_size in [1, 2, 3, 5, 7]: # рассматриваем возможные размеры ядер\n",
    "\n",
    "            W = torch.randint(low=0, high=10, size=(num_filters, 3, kernel_size, kernel_size), dtype=torch.float32) # случайно генерируем веса для ядер свёртки (int от 0 до 10 — чтобы решение всегда было точным с последующей конвертацией в float32)\n",
    "            # размерность W: (число ядер(фильтров) на слое свёртки, 3 — число входных каналов, высота ядра свёртки H_conv, ширина ядра свёртки W_conv)\n",
    "            b = torch.randint(low=0, high=10, size=(num_filters,), dtype=torch.float32) # bias по аналогии\n",
    "            # размерность b: (число ядер(фильтров) на слое свёртки)\n",
    "\n",
    "            for stride in [1, 2, 5]: # рассматриваем варианты параметра stride\n",
    "                for padding in [0, 1, 2]: # рассматриваем варианты параметра padding\n",
    "                    real_conv = torch.nn.Conv2d(in_channels=3, out_channels=num_filters, kernel_size=kernel_size, stride=stride, padding=padding) # \n",
    "                    real_conv.weight.data = W # меняем веса ядер свёртки на тестируемые (со случайных, заданных при создании Conv2d)\n",
    "                    real_conv.bias.data = b # меняем bias ядер свёртки на тестируемые (со случайных, заданных при создании Conv2d)\n",
    "                    \n",
    "                    res_real = real_conv(input) # считаем результат контрольной свёртки\n",
    "                    \n",
    "                    res_func = func(input, W, b, stride, padding) # считаем результат проверяемой свёртки\n",
    "\n",
    "                    if not torch.equal(res_func, res_real): # сравниваем, что все значения в тензорах одинаковые\n",
    "                        raise Exception(f\"Результат свёрток не совпал при параметрах: num_filters={num_filters}, kernel_size={kernel_size}, stride={stride}, padding={padding}\") # если есть несовпадения — выкидываем исключение\n",
    "    print(\"Все тесты прошли успешно!\")"
   ]
  },
  {
   "cell_type": "markdown",
   "metadata": {},
   "source": [
    "# 1) Реализовать стандартную функцию свертки."
   ]
  },
  {
   "cell_type": "markdown",
   "metadata": {},
   "source": [
    "<img src=\"./images/simple_conv.png\" alt=\"Simple convolution\"/>"
   ]
  },
  {
   "cell_type": "markdown",
   "metadata": {},
   "source": [
    "Функция свёртки:\n",
    "$$\n",
    "\\mathbf{Out}[id_{conv}][x][y] = \\sum_{i=0}^{H_{conv}-1}\\sum_{j=0}^{W_{conv}-1}\\sum_{c=0}^{Channels-1}\\mathbf{Input}[c][Sx+i][Sy+j] * \\mathbf{W}[id_{conv}][c][i][j] + \\mathbf{b}[id_{conv}]\n",
    "$$\n",
    "Где:\n",
    "* Input — входная матрица размерности (Channels, Height, Width) ~ (Channels, $H_{in}$, $W_{in}$)\n",
    "* W — матрица весов свёрточного слоя размерности (Num_filters, Channels, $H_{conv}$, $W_{conv}$)\n",
    "* b — смещения (bias) для вильтров свёртки (одно число на фильтр) размерности (Num_filters)\n",
    "* Out — выходная матрица (Num_filters, $H_{out}$, $W_{out}$), где $H_{out}$, $W_{out}$ зависят от параметров свёртки\n",
    "* $id_{conv}$  — номер рассматриваемой свёртки (фильтра свёртки), изменяется от 0 до Num_filters-1\n",
    "* x — координата **нового** пикселя по вертикали ~ номер строки (в изначальном изображении — Height ~ $H_{in}$)\n",
    "* y — координата **нового** пикселя по горизонтали ~ номер столбца (в изначальном изображении — Width ~ $W_{in}$)\n",
    "* $H_{conv}$ — размер ядра свёртки по вертикали (итерируемся с помощью i)\n",
    "* $W_{conv}$ — размер ядра свёртки по горизонтали (итерируемся с помощью j)\n",
    "* Channels — число каналов (фильтров) у входного тензора (итерируемся с помощью c)\n",
    "* S — значение параметра \"Stride\", отвечающее за размер шага по изображению (смещение по изображению)"
   ]
  },
  {
   "cell_type": "code",
   "execution_count": 265,
   "metadata": {},
   "outputs": [],
   "source": [
    "def simple_conv(Input, W, b, stride: int=1, padding: int=0) -> torch.Tensor:\n",
    "    \"\"\"\n",
    "    Функция простой свёртки.\\n\n",
    "    Parameters:\n",
    "        * Input: входной массив размерности (Classes, Height, Width) ~ (Classes, H_in, W_in)\n",
    "        * W: \n",
    "        * b: bias, смещение для фильтра свёртки\n",
    "        * stride: (одинаков как для оси OX, так и для OY)\n",
    "        * padding: значение количества добавляемх \"размерностей\" по краям входного массива, не включая размерность, отвечающую за каналы (одинаков как для оси OX, так и для OY)\\n\n",
    "    Returns:\n",
    "        * torch.Tensor\n",
    "    \"\"\"\n",
    "    Channels, H_in, W_in = Input.shape # берём значения Channels, Height, Width из входной матрицы\n",
    "    Num_filters, Channels, H_conv, W_conv = W.shape # берём значения Num_filters, Channels, H_conv, W_conv из матрицы весов свёртки\n",
    "\n",
    "    Input_padded = F.pad(input=Input, pad=(padding, padding, padding, padding, 0, 0), mode='constant', value=0) # добавляем padding из нулей на входной массив (0,0 — отвечают за размерность в Channels (до и после исходных данных), остальные по аналогии за Width и Height)\n",
    "\n",
    "    H_out = int((H_in + 2*padding - (H_conv-1) - 1) / stride + 1) # Height выходного тензора\n",
    "    W_out = int((W_in + 2*padding - (W_conv-1) - 1) / stride + 1) # Width выходного тензора\n",
    "    Out = torch.zeros([Num_filters, H_out, W_out], dtype=torch.float32) # заготовка под выходной тензор, заполненная нулями\n",
    "    \n",
    "    # print(f\"Input_padded shape: {Input_padded.shape}\")\n",
    "    # print(f\"Out shape: {Out.shape}\")\n",
    "\n",
    "    for id_conv in range(Num_filters): # идём по числу фильтров в одной свёртке (range вернёт список чисел от 0 до Num_filters-1 включительно)\n",
    "        for x in range(H_out): # идём по пикселям высоты выходного тензора\n",
    "            for y in range(W_out): # идём по пикселям ширины выходного тензора\n",
    "#=========================== вариант через медленное сложение всех элементов ========================\n",
    "                # for i in range(H_conv): # идём по высоте фильтра (ядра) свёртки\n",
    "                #     for j in range(W_conv): # идём по ширине фильтра (ядра) свёртки\n",
    "                #         for c in range(Channels): # идём по каналам входного изображения\n",
    "                #             Out[id_conv][x][y] += Input_padded[c][stride*x + i][stride*y + j] * W [id_conv][c][i][j]\n",
    "#--------------------------- вариант через быстрое перемножение тензоров ----------------------------\n",
    "                H_from, H_to = stride*x, stride*x+H_conv # с какого пикселя по какой смотреть на входном изображении по вертикали\n",
    "                W_from, W_to = stride*y, stride*y+W_conv # с какого пикселя по какой смотреть на входном изображении по горизонтали\n",
    "                Out[id_conv][x][y] = torch.sum(Input_padded[:, H_from:H_to, W_from:W_to] * W[id_conv]) # перемножаем матрицы Input_padded в нужной области и W поэлементно (у них должна быть одинаковая размерность) и складываем все элементы получившейся матрицы\n",
    "#====================================================================================================\n",
    "                Out[id_conv][x][y] += b[id_conv] # добавляем смещение (bias)\n",
    "                            \n",
    "    return Out # возвращаем полученный массив"
   ]
  },
  {
   "cell_type": "markdown",
   "metadata": {},
   "source": [
    "# Тестирование"
   ]
  },
  {
   "cell_type": "markdown",
   "metadata": {},
   "source": [
    "Берём произвольное изображение (можно даже сгенерировать случайную матрицу) в формате torch.Tensor."
   ]
  },
  {
   "cell_type": "code",
   "execution_count": 266,
   "metadata": {},
   "outputs": [
    {
     "data": {
      "text/plain": [
       "torch.Size([3, 25, 25])"
      ]
     },
     "execution_count": 266,
     "metadata": {},
     "output_type": "execute_result"
    }
   ],
   "source": [
    "Input = tv.read_image('./data/bird_25x25.png') # считываем изображение; в Torch изображения идут сразу в формате RGB, но в виде (Channels, Height, Width)\n",
    "Input.shape # изначальная размерность изображения"
   ]
  },
  {
   "cell_type": "markdown",
   "metadata": {},
   "source": [
    "Пример визуализации изображения."
   ]
  },
  {
   "cell_type": "code",
   "execution_count": 267,
   "metadata": {},
   "outputs": [
    {
     "data": {
      "image/png": "[encoded data removed]",
      "text/plain": [
       "<Figure size 360x360 with 1 Axes>"
      ]
     },
     "metadata": {
      "needs_background": "light"
     },
     "output_type": "display_data"
    }
   ],
   "source": [
    "Input_show = Input.permute((1, 2, 0)) # приводим к формату, воспринимаемому в matplotlib, то есть меняем местами размерности: (Channels, Height, Width) => (Height, Width, Channels)\n",
    "Input_show.shape # размерность для matplotlib\n",
    "show_image(image=Input_show, figsize=(5, 5)) # вывод изображения"
   ]
  },
  {
   "cell_type": "markdown",
   "metadata": {},
   "source": [
    "Конвертируем изображение в float32."
   ]
  },
  {
   "cell_type": "code",
   "execution_count": 268,
   "metadata": {},
   "outputs": [
    {
     "name": "stdout",
     "output_type": "stream",
     "text": [
      "tensor([[[243., 241., 240.,  ..., 241., 241., 241.],\n",
      "         [242., 239., 238.,  ..., 239., 237., 237.],\n",
      "         [241., 240., 237.,  ..., 209., 233., 235.],\n",
      "         ...,\n",
      "         [207., 224., 215.,  ..., 221., 222., 228.],\n",
      "         [207., 179., 126.,  ..., 218., 221., 227.],\n",
      "         [136.,  99., 103.,  ..., 220., 222., 228.]],\n",
      "\n",
      "        [[215., 210., 211.,  ..., 225., 224., 225.],\n",
      "         [219., 213., 212.,  ..., 218., 215., 216.],\n",
      "         [221., 216., 212.,  ..., 194., 215., 220.],\n",
      "         ...,\n",
      "         [205., 227., 225.,  ..., 226., 226., 229.],\n",
      "         [208., 179., 119.,  ..., 223., 223., 225.],\n",
      "         [132.,  93.,  96.,  ..., 224., 224., 227.]],\n",
      "\n",
      "        [[212., 206., 203.,  ..., 226., 226., 227.],\n",
      "         [210., 205., 201.,  ..., 216., 215., 215.],\n",
      "         [210., 205., 201.,  ..., 195., 214., 217.],\n",
      "         ...,\n",
      "         [196., 232., 243.,  ..., 239., 239., 240.],\n",
      "         [212., 174.,  96.,  ..., 238., 238., 236.],\n",
      "         [108.,  67.,  67.,  ..., 238., 239., 238.]]])\n"
     ]
    }
   ],
   "source": [
    "Input = Input.to(torch.float32) # переводим изначальный tensor из int8 в float32\n",
    "print(Input)"
   ]
  },
  {
   "cell_type": "markdown",
   "metadata": {},
   "source": [
    "## Вариант 1:"
   ]
  },
  {
   "cell_type": "code",
   "execution_count": 269,
   "metadata": {},
   "outputs": [
    {
     "name": "stderr",
     "output_type": "stream",
     "text": [
      "100%|██████████| 2/2 [00:05<00:00,  2.64s/it]"
     ]
    },
    {
     "name": "stdout",
     "output_type": "stream",
     "text": [
      "Все тесты прошли успешно!\n"
     ]
    },
    {
     "name": "stderr",
     "output_type": "stream",
     "text": [
      "\n"
     ]
    }
   ],
   "source": [
    "test_conv(simple_conv, Input) # запускаем тестирование функции свёртки"
   ]
  },
  {
   "cell_type": "markdown",
   "metadata": {},
   "source": [
    "## Вариант 2:"
   ]
  },
  {
   "cell_type": "code",
   "execution_count": null,
   "metadata": {},
   "outputs": [],
   "source": []
  },
  {
   "cell_type": "markdown",
   "metadata": {},
   "source": [
    "## Вариант 3:"
   ]
  },
  {
   "cell_type": "code",
   "execution_count": null,
   "metadata": {},
   "outputs": [],
   "source": []
  },
  {
   "cell_type": "markdown",
   "metadata": {},
   "source": [
    "## Общее"
   ]
  },
  {
   "cell_type": "code",
   "execution_count": 234,
   "metadata": {},
   "outputs": [],
   "source": [
    "x = torch.ones(3, 5, 5)\n",
    "# W = torch.ones(3, 5, 5)\n",
    "W = torch.full((3,5,5), 2)"
   ]
  },
  {
   "cell_type": "code",
   "execution_count": 243,
   "metadata": {},
   "outputs": [
    {
     "data": {
      "text/plain": [
       "tensor(150., dtype=torch.float64)"
      ]
     },
     "execution_count": 243,
     "metadata": {},
     "output_type": "execute_result"
    }
   ],
   "source": [
    "torch.sum(tmp)"
   ]
  },
  {
   "cell_type": "code",
   "execution_count": 258,
   "metadata": {},
   "outputs": [],
   "source": [
    "Input = tv.read_image('./data/bird_256x256.png') # считываем изображение; в Torch изображения идут сразу в формате RGB, но в виде (Channels, Height, Width)\n",
    "Input = Input.to(torch.float32) # переводим int8 в float32\n",
    "\n",
    "# W = torch.ones((2, 3, 3, 3), dtype=torch.float32) # веса для ядер свёртки\n",
    "# b = torch.ones((2), dtype=torch.float32) # bias\n",
    "\n",
    "# W = torch.rand((2, 3, 3, 3), dtype=torch.float32) # веса для ядер свёртки\n",
    "# b = torch.rand((2), dtype=torch.float32) # bias\n",
    "\n",
    "W = torch.randint(low=0, high=10, size=(2, 3, 3, 3), dtype=torch.float32) # веса для ядер свёртки\n",
    "b = torch.randint(low=0, high=10, size=(2,), dtype=torch.float32) # bias"
   ]
  },
  {
   "cell_type": "code",
   "execution_count": 259,
   "metadata": {},
   "outputs": [],
   "source": [
    "res = simple_conv(Input, W, b)"
   ]
  },
  {
   "cell_type": "code",
   "execution_count": 261,
   "metadata": {},
   "outputs": [
    {
     "data": {
      "text/plain": [
       "tensor([[[30473., 30422., 30419.,  ..., 32416., 32433., 32478.],\n",
       "         [30589., 30544., 30524.,  ..., 32349., 32362., 32399.],\n",
       "         [30711., 30697., 30681.,  ..., 32247., 32247., 32254.],\n",
       "         ...,\n",
       "         [12730., 13015., 13393.,  ..., 32257., 32261., 32264.],\n",
       "         [13037., 13173., 13450.,  ..., 32237., 32237., 32237.],\n",
       "         [13410., 13278., 13224.,  ..., 32242., 32234., 32228.]],\n",
       "\n",
       "        [[27105., 27075., 27094.,  ..., 28462., 28481., 28520.],\n",
       "         [27193., 27171., 27182.,  ..., 28411., 28434., 28468.],\n",
       "         [27286., 27286., 27304.,  ..., 28330., 28331., 28328.],\n",
       "         ...,\n",
       "         [11126., 11384., 11724.,  ..., 27957., 27966., 27967.],\n",
       "         [11347., 11472., 11734.,  ..., 27930., 27930., 27930.],\n",
       "         [11625., 11513., 11467.,  ..., 27923., 27918., 27917.]]])"
      ]
     },
     "execution_count": 261,
     "metadata": {},
     "output_type": "execute_result"
    }
   ],
   "source": [
    "res"
   ]
  },
  {
   "cell_type": "code",
   "execution_count": 262,
   "metadata": {},
   "outputs": [],
   "source": [
    "res_ = simple_conv(Input, W, b)"
   ]
  },
  {
   "cell_type": "code",
   "execution_count": 263,
   "metadata": {},
   "outputs": [
    {
     "data": {
      "text/plain": [
       "tensor([[[True, True, True,  ..., True, True, True],\n",
       "         [True, True, True,  ..., True, True, True],\n",
       "         [True, True, True,  ..., True, True, True],\n",
       "         ...,\n",
       "         [True, True, True,  ..., True, True, True],\n",
       "         [True, True, True,  ..., True, True, True],\n",
       "         [True, True, True,  ..., True, True, True]],\n",
       "\n",
       "        [[True, True, True,  ..., True, True, True],\n",
       "         [True, True, True,  ..., True, True, True],\n",
       "         [True, True, True,  ..., True, True, True],\n",
       "         ...,\n",
       "         [True, True, True,  ..., True, True, True],\n",
       "         [True, True, True,  ..., True, True, True],\n",
       "         [True, True, True,  ..., True, True, True]]])"
      ]
     },
     "execution_count": 263,
     "metadata": {},
     "output_type": "execute_result"
    }
   ],
   "source": [
    "res == res_"
   ]
  },
  {
   "cell_type": "code",
   "execution_count": null,
   "metadata": {},
   "outputs": [],
   "source": [
    "m = torch.nn.Conv2d(3, 2, kernel_size=3, stride=1, padding=0)\n",
    "m.bias.data = b\n",
    "m.weight.data = W\n",
    "\n",
    "res_ = m(Input.to(torch.float32))"
   ]
  },
  {
   "cell_type": "code",
   "execution_count": 264,
   "metadata": {},
   "outputs": [
    {
     "data": {
      "text/plain": [
       "True"
      ]
     },
     "execution_count": 264,
     "metadata": {},
     "output_type": "execute_result"
    }
   ],
   "source": [
    "torch.equal(res_, res)"
   ]
  }
 ],
 "metadata": {
  "kernelspec": {
   "display_name": "gpu",
   "language": "python",
   "name": "python3"
  },
  "language_info": {
   "codemirror_mode": {
    "name": "ipython",
    "version": 3
   },
   "file_extension": ".py",
   "mimetype": "text/x-python",
   "name": "python",
   "nbconvert_exporter": "python",
   "pygments_lexer": "ipython3",
   "version": "3.9.12"
  }
 },
 "nbformat": 4,
 "nbformat_minor": 2
}
